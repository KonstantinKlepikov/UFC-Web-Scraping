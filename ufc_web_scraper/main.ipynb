{
 "cells": [
  {
   "cell_type": "code",
   "execution_count": 1,
   "metadata": {},
   "outputs": [],
   "source": [
    "from scraper import get_urls, events, fights, fightstats, fighters\n",
    "\n",
    "import requests\n",
    "import bs4\n",
    "import csv\n",
    "import os\n",
    "import time\n"
   ]
  },
  {
   "cell_type": "code",
   "execution_count": 3,
   "metadata": {},
   "outputs": [
    {
     "name": "stdout",
     "output_type": "stream",
     "text": [
      "Scraping event links from ufcstats.com\n",
      "691 event links successfully scraped\n",
      "Scraping fight links from ufcstats.com\n",
      "7527 fight links successfully scraped\n",
      "Scraping fighter links from ufcstats.com\n",
      "4183 links successfully scraped\n"
     ]
    }
   ],
   "source": [
    "get_urls.get_event_urls()\n",
    "get_urls.get_fight_urls()\n",
    "get_urls.get_fighter_urls()"
   ]
  },
  {
   "cell_type": "code",
   "execution_count": 4,
   "metadata": {},
   "outputs": [
    {
     "name": "stdout",
     "output_type": "stream",
     "text": [
      "New File Created - ufc_event_data.csv\n",
      "Scraping 691 event URLs...\n"
     ]
    }
   ],
   "source": [
    "events.scrape_events()\n",
    "fights.scrape_fights()\n",
    "fightstats.scrape_fightstats()\n",
    "fighters.scrape_fighters()"
   ]
  },
  {
   "cell_type": "code",
   "execution_count": null,
   "metadata": {},
   "outputs": [],
   "source": []
  }
 ],
 "metadata": {
  "kernelspec": {
   "display_name": "Python 3",
   "language": "python",
   "name": "python3"
  },
  "language_info": {
   "codemirror_mode": {
    "name": "ipython",
    "version": 3
   },
   "file_extension": ".py",
   "mimetype": "text/x-python",
   "name": "python",
   "nbconvert_exporter": "python",
   "pygments_lexer": "ipython3",
   "version": "3.9.6"
  },
  "orig_nbformat": 4
 },
 "nbformat": 4,
 "nbformat_minor": 2
}
