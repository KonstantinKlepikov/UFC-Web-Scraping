{
 "cells": [
  {
   "cell_type": "code",
   "execution_count": 2,
   "metadata": {},
   "outputs": [],
   "source": [
    "from scraper import get_urls, events, fights, fightstats, fighters\n",
    "\n",
    "import requests\n",
    "import bs4\n",
    "import csv\n",
    "import os\n",
    "import time\n"
   ]
  },
  {
   "cell_type": "code",
   "execution_count": 2,
   "metadata": {},
   "outputs": [
    {
     "name": "stdout",
     "output_type": "stream",
     "text": [
      "Scraping event links from ufcstats.com\n",
      "701 event links successfully scraped\n",
      "Scraping fight links from ufcstats.com\n",
      "7589 fight links successfully scraped\n",
      "Scraping fighter links from ufcstats.com\n",
      "4239 links successfully scraped\n"
     ]
    }
   ],
   "source": [
    "get_urls.get_event_urls()\n",
    "get_urls.get_fight_urls()\n",
    "get_urls.get_fighter_urls()"
   ]
  },
  {
   "cell_type": "code",
   "execution_count": 5,
   "metadata": {},
   "outputs": [
    {
     "name": "stdout",
     "output_type": "stream",
     "text": [
      "Event data already scraped\n"
     ]
    }
   ],
   "source": [
    "events.scrape_events()\n"
   ]
  },
  {
   "cell_type": "code",
   "execution_count": 4,
   "metadata": {},
   "outputs": [
    {
     "name": "stdout",
     "output_type": "stream",
     "text": [
      "Scraping to Existing File - ufc_fight_data.csv\n",
      "Scraping 6051 fights...\n",
      "6051/6051 links scraped successfully\n"
     ]
    }
   ],
   "source": [
    "fights.scrape_fights()\n"
   ]
  },
  {
   "cell_type": "code",
   "execution_count": 6,
   "metadata": {},
   "outputs": [
    {
     "name": "stdout",
     "output_type": "stream",
     "text": [
      "Scraping to Existing File - ufc_fighter_data.csv\n",
      "Scraping 6526 fights...\n",
      "6526/6526 links successfully scraped\n"
     ]
    }
   ],
   "source": [
    "fightstats.scrape_fightstats()\n"
   ]
  },
  {
   "cell_type": "code",
   "execution_count": 8,
   "metadata": {},
   "outputs": [
    {
     "name": "stdout",
     "output_type": "stream",
     "text": [
      "Scraping to Existing File - ufc_fighter_data.csv\n",
      "Scraping 1984 fighters...\n",
      "1984/1984 fighters scraped successfully\n"
     ]
    }
   ],
   "source": [
    "\n",
    "fighters.scrape_fighters()"
   ]
  },
  {
   "cell_type": "code",
   "execution_count": null,
   "metadata": {},
   "outputs": [],
   "source": []
  }
 ],
 "metadata": {
  "kernelspec": {
   "display_name": "Python 3",
   "language": "python",
   "name": "python3"
  },
  "language_info": {
   "codemirror_mode": {
    "name": "ipython",
    "version": 3
   },
   "file_extension": ".py",
   "mimetype": "text/x-python",
   "name": "python",
   "nbconvert_exporter": "python",
   "pygments_lexer": "ipython3",
   "version": "3.9.6"
  },
  "orig_nbformat": 4
 },
 "nbformat": 4,
 "nbformat_minor": 2
}
